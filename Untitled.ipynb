{
 "cells": [
  {
   "cell_type": "code",
   "execution_count": 1,
   "id": "1d45840c",
   "metadata": {},
   "outputs": [],
   "source": [
    "import pandas as pd\n",
    "import tensorflow as tf\n",
    "from tensorflow import keras\n",
    "\n",
    "import numpy as np"
   ]
  },
  {
   "cell_type": "code",
   "execution_count": 2,
   "id": "aecf79b0",
   "metadata": {},
   "outputs": [],
   "source": [
    "data = pd.read_csv(\"data/fashion-mnist-train-1.csv\")"
   ]
  },
  {
   "cell_type": "code",
   "execution_count": 3,
   "id": "f6dc149d",
   "metadata": {},
   "outputs": [],
   "source": [
    "train_labels = data['label']\n",
    "train_images = data.loc[:, data.columns != 'label']"
   ]
  },
  {
   "cell_type": "code",
   "execution_count": 4,
   "id": "90681967",
   "metadata": {},
   "outputs": [],
   "source": [
    "#Normalize the data\n",
    "train_images = train_images / 255.0"
   ]
  },
  {
   "cell_type": "code",
   "execution_count": 5,
   "id": "1c4f85b7",
   "metadata": {},
   "outputs": [
    {
     "data": {
      "text/plain": [
       "(14999, 784)"
      ]
     },
     "execution_count": 5,
     "metadata": {},
     "output_type": "execute_result"
    }
   ],
   "source": [
    "train_images.shape"
   ]
  },
  {
   "cell_type": "code",
   "execution_count": 6,
   "id": "60516442",
   "metadata": {},
   "outputs": [],
   "source": [
    "model = keras.Sequential([\n",
    "keras.layers.Flatten(input_shape = (784,)),\n",
    "keras.layers.Dense(128, activation = \"relu\"),\n",
    "keras.layers.Dense(10, activation = \"softmax\")\n",
    "])"
   ]
  },
  {
   "cell_type": "code",
   "execution_count": 7,
   "id": "02d01654",
   "metadata": {},
   "outputs": [],
   "source": [
    "model.compile(optimizer=\"adam\",\n",
    "              loss=\"sparse_categorical_crossentropy\",\n",
    "              metrics=[\"accuracy\"]\n",
    "              )"
   ]
  },
  {
   "cell_type": "code",
   "execution_count": 8,
   "id": "bb4348ae",
   "metadata": {},
   "outputs": [
    {
     "name": "stdout",
     "output_type": "stream",
     "text": [
      "Epoch 1/50\n",
      "469/469 [==============================] - 1s 2ms/step - loss: 0.6444 - accuracy: 0.7757\n",
      "Epoch 2/50\n",
      "469/469 [==============================] - 1s 1ms/step - loss: 0.4702 - accuracy: 0.8327\n",
      "Epoch 3/50\n",
      "469/469 [==============================] - 1s 1ms/step - loss: 0.4183 - accuracy: 0.8531\n",
      "Epoch 4/50\n",
      "469/469 [==============================] - 1s 2ms/step - loss: 0.3884 - accuracy: 0.8625\n",
      "Epoch 5/50\n",
      "469/469 [==============================] - 1s 1ms/step - loss: 0.3640 - accuracy: 0.8679\n",
      "Epoch 6/50\n",
      "469/469 [==============================] - 1s 1ms/step - loss: 0.3408 - accuracy: 0.8773\n",
      "Epoch 7/50\n",
      "469/469 [==============================] - 1s 1ms/step - loss: 0.3243 - accuracy: 0.8815\n",
      "Epoch 8/50\n",
      "469/469 [==============================] - 1s 2ms/step - loss: 0.3105 - accuracy: 0.8876\n",
      "Epoch 9/50\n",
      "469/469 [==============================] - 1s 1ms/step - loss: 0.2948 - accuracy: 0.8918\n",
      "Epoch 10/50\n",
      "469/469 [==============================] - 1s 1ms/step - loss: 0.2802 - accuracy: 0.8964\n",
      "Epoch 11/50\n",
      "469/469 [==============================] - 1s 1ms/step - loss: 0.2706 - accuracy: 0.8997\n",
      "Epoch 12/50\n",
      "469/469 [==============================] - 1s 1ms/step - loss: 0.2569 - accuracy: 0.9057\n",
      "Epoch 13/50\n",
      "469/469 [==============================] - 1s 1ms/step - loss: 0.2434 - accuracy: 0.9126\n",
      "Epoch 14/50\n",
      "469/469 [==============================] - 1s 1ms/step - loss: 0.2354 - accuracy: 0.9144\n",
      "Epoch 15/50\n",
      "469/469 [==============================] - 1s 1ms/step - loss: 0.2267 - accuracy: 0.9201\n",
      "Epoch 16/50\n",
      "469/469 [==============================] - 1s 1ms/step - loss: 0.2159 - accuracy: 0.9231\n",
      "Epoch 17/50\n",
      "469/469 [==============================] - 1s 1ms/step - loss: 0.2089 - accuracy: 0.9229\n",
      "Epoch 18/50\n",
      "469/469 [==============================] - 1s 1ms/step - loss: 0.1995 - accuracy: 0.9262\n",
      "Epoch 19/50\n",
      "469/469 [==============================] - 1s 1ms/step - loss: 0.1939 - accuracy: 0.9281\n",
      "Epoch 20/50\n",
      "469/469 [==============================] - 1s 1ms/step - loss: 0.1883 - accuracy: 0.9303\n",
      "Epoch 21/50\n",
      "469/469 [==============================] - 1s 1ms/step - loss: 0.1797 - accuracy: 0.9367\n",
      "Epoch 22/50\n",
      "469/469 [==============================] - 1s 1ms/step - loss: 0.1734 - accuracy: 0.9371\n",
      "Epoch 23/50\n",
      "469/469 [==============================] - 1s 1ms/step - loss: 0.1648 - accuracy: 0.9395\n",
      "Epoch 24/50\n",
      "469/469 [==============================] - 1s 1ms/step - loss: 0.1605 - accuracy: 0.9416\n",
      "Epoch 25/50\n",
      "469/469 [==============================] - 1s 1ms/step - loss: 0.1544 - accuracy: 0.9463\n",
      "Epoch 26/50\n",
      "469/469 [==============================] - 1s 1ms/step - loss: 0.1479 - accuracy: 0.9479\n",
      "Epoch 27/50\n",
      "469/469 [==============================] - 1s 1ms/step - loss: 0.1498 - accuracy: 0.9448\n",
      "Epoch 28/50\n",
      "469/469 [==============================] - 1s 1ms/step - loss: 0.1406 - accuracy: 0.9491\n",
      "Epoch 29/50\n",
      "469/469 [==============================] - 1s 1ms/step - loss: 0.1396 - accuracy: 0.9510\n",
      "Epoch 30/50\n",
      "469/469 [==============================] - 1s 1ms/step - loss: 0.1259 - accuracy: 0.9543\n",
      "Epoch 31/50\n",
      "469/469 [==============================] - 1s 1ms/step - loss: 0.1308 - accuracy: 0.9541\n",
      "Epoch 32/50\n",
      "469/469 [==============================] - 1s 1ms/step - loss: 0.1233 - accuracy: 0.9568\n",
      "Epoch 33/50\n",
      "469/469 [==============================] - 1s 1ms/step - loss: 0.1213 - accuracy: 0.9573\n",
      "Epoch 34/50\n",
      "469/469 [==============================] - 1s 1ms/step - loss: 0.1119 - accuracy: 0.9597\n",
      "Epoch 35/50\n",
      "469/469 [==============================] - 1s 1ms/step - loss: 0.1124 - accuracy: 0.9591\n",
      "Epoch 36/50\n",
      "469/469 [==============================] - 1s 1ms/step - loss: 0.1109 - accuracy: 0.9593\n",
      "Epoch 37/50\n",
      "469/469 [==============================] - 1s 1ms/step - loss: 0.1140 - accuracy: 0.9580\n",
      "Epoch 38/50\n",
      "469/469 [==============================] - 1s 2ms/step - loss: 0.0963 - accuracy: 0.9651\n",
      "Epoch 39/50\n",
      "469/469 [==============================] - 1s 1ms/step - loss: 0.0980 - accuracy: 0.9655\n",
      "Epoch 40/50\n",
      "469/469 [==============================] - 1s 1ms/step - loss: 0.0990 - accuracy: 0.9649\n",
      "Epoch 41/50\n",
      "469/469 [==============================] - 1s 2ms/step - loss: 0.0888 - accuracy: 0.9691\n",
      "Epoch 42/50\n",
      "469/469 [==============================] - 1s 2ms/step - loss: 0.0855 - accuracy: 0.9699\n",
      "Epoch 43/50\n",
      "469/469 [==============================] - 1s 2ms/step - loss: 0.0868 - accuracy: 0.9691\n",
      "Epoch 44/50\n",
      "469/469 [==============================] - 1s 1ms/step - loss: 0.0842 - accuracy: 0.9705\n",
      "Epoch 45/50\n",
      "469/469 [==============================] - 1s 1ms/step - loss: 0.0833 - accuracy: 0.9687\n",
      "Epoch 46/50\n",
      "469/469 [==============================] - 1s 1ms/step - loss: 0.0800 - accuracy: 0.9714\n",
      "Epoch 47/50\n",
      "469/469 [==============================] - 1s 1ms/step - loss: 0.0722 - accuracy: 0.9749\n",
      "Epoch 48/50\n",
      "469/469 [==============================] - 1s 1ms/step - loss: 0.0733 - accuracy: 0.9739\n",
      "Epoch 49/50\n",
      "469/469 [==============================] - 1s 1ms/step - loss: 0.0735 - accuracy: 0.9751\n",
      "Epoch 50/50\n",
      "469/469 [==============================] - 1s 1ms/step - loss: 0.0674 - accuracy: 0.9755\n"
     ]
    },
    {
     "data": {
      "text/plain": [
       "<keras.callbacks.History at 0x2014a62e820>"
      ]
     },
     "execution_count": 8,
     "metadata": {},
     "output_type": "execute_result"
    }
   ],
   "source": [
    "model.fit(train_images, train_labels, epochs = 50)"
   ]
  },
  {
   "cell_type": "code",
   "execution_count": 83,
   "id": "c63ad90d",
   "metadata": {},
   "outputs": [
    {
     "name": "stdout",
     "output_type": "stream",
     "text": [
      "INFO:tensorflow:Assets written to: C:/Users/romai/EFREI/M2/Machine_Learning_in_Production/tp_5/data/MLops_tp5/MLops_tp5\\assets\n"
     ]
    }
   ],
   "source": [
    "model.save('C:/Users/romai/EFREI/M2/Machine_Learning_in_Production/tp_5/data/MLops_tp5/MLops_tp5/model.h5')"
   ]
  },
  {
   "cell_type": "code",
   "execution_count": null,
   "id": "113ef5e7",
   "metadata": {},
   "outputs": [],
   "source": []
  }
 ],
 "metadata": {
  "kernelspec": {
   "display_name": "Python 3 (ipykernel)",
   "language": "python",
   "name": "python3"
  },
  "language_info": {
   "codemirror_mode": {
    "name": "ipython",
    "version": 3
   },
   "file_extension": ".py",
   "mimetype": "text/x-python",
   "name": "python",
   "nbconvert_exporter": "python",
   "pygments_lexer": "ipython3",
   "version": "3.9.15"
  }
 },
 "nbformat": 4,
 "nbformat_minor": 5
}
